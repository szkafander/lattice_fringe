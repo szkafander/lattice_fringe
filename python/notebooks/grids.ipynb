{
 "cells": [
  {
   "cell_type": "code",
   "execution_count": 1,
   "metadata": {},
   "outputs": [
    {
     "ename": "AttributeError",
     "evalue": "module 'lattice_fringe' has no attribute 'grids'",
     "output_type": "error",
     "traceback": [
      "\u001b[1;31m---------------------------------------------------------------------------\u001b[0m",
      "\u001b[1;31mAttributeError\u001b[0m                            Traceback (most recent call last)",
      "\u001b[1;32md:\\projects\\lattice_fringe\\python\\notebooks\\grids.ipynb Cell 1\u001b[0m in \u001b[0;36m<cell line: 1>\u001b[1;34m()\u001b[0m\n\u001b[1;32m----> <a href='vscode-notebook-cell:/d%3A/projects/lattice_fringe/python/notebooks/grids.ipynb#W0sZmlsZQ%3D%3D?line=0'>1</a>\u001b[0m \u001b[39mfrom\u001b[39;00m \u001b[39mlattice_fringe\u001b[39;00m\u001b[39m.\u001b[39;00m\u001b[39mgrids\u001b[39;00m \u001b[39mimport\u001b[39;00m SpatialGrid\n",
      "File \u001b[1;32md:\\projects\\lattice_fringe\\python\\lattice_fringe\\grids\\__init__.py:1\u001b[0m, in \u001b[0;36m<module>\u001b[1;34m\u001b[0m\n\u001b[1;32m----> 1\u001b[0m \u001b[39mfrom\u001b[39;00m \u001b[39mlattice_fringe\u001b[39;00m\u001b[39m.\u001b[39;00m\u001b[39mgrids\u001b[39;00m\u001b[39m.\u001b[39;00m\u001b[39mspatial_grid\u001b[39;00m \u001b[39mimport\u001b[39;00m SpatialGrid\n",
      "File \u001b[1;32md:\\projects\\lattice_fringe\\python\\lattice_fringe\\grids\\spatial_grid.py:10\u001b[0m, in \u001b[0;36m<module>\u001b[1;34m\u001b[0m\n\u001b[0;32m      6\u001b[0m \u001b[39mfrom\u001b[39;00m \u001b[39mlattice_fringe\u001b[39;00m\u001b[39m.\u001b[39;00m\u001b[39minterfaces\u001b[39;00m \u001b[39mimport\u001b[39;00m Grid, SpatialUnit\n\u001b[0;32m      7\u001b[0m \u001b[39mfrom\u001b[39;00m \u001b[39mlattice_fringe\u001b[39;00m\u001b[39m.\u001b[39;00m\u001b[39mutils\u001b[39;00m \u001b[39mimport\u001b[39;00m get_composite\n\u001b[1;32m---> 10\u001b[0m \u001b[39mclass\u001b[39;00m \u001b[39mSpatialGrid\u001b[39;00m(Grid):\n\u001b[0;32m     12\u001b[0m     \u001b[39mdef\u001b[39;00m \u001b[39m__init__\u001b[39m(\n\u001b[0;32m     13\u001b[0m             \u001b[39mself\u001b[39m,\n\u001b[0;32m     14\u001b[0m             coords_0: np\u001b[39m.\u001b[39mndarray,\n\u001b[0;32m     15\u001b[0m             coords_1: np\u001b[39m.\u001b[39mndarray,\n\u001b[0;32m     16\u001b[0m             unit: SpatialUnit\n\u001b[0;32m     17\u001b[0m     ) \u001b[39m-\u001b[39m\u001b[39m>\u001b[39m \u001b[39mNone\u001b[39;00m:\n\u001b[0;32m     18\u001b[0m         \u001b[39msuper\u001b[39m(SpatialGrid, \u001b[39mself\u001b[39m)\u001b[39m.\u001b[39m\u001b[39m__init__\u001b[39m(coords_0, coords_1, unit)\n",
      "File \u001b[1;32md:\\projects\\lattice_fringe\\python\\lattice_fringe\\grids\\spatial_grid.py:20\u001b[0m, in \u001b[0;36mSpatialGrid\u001b[1;34m()\u001b[0m\n\u001b[0;32m     12\u001b[0m \u001b[39mdef\u001b[39;00m \u001b[39m__init__\u001b[39m(\n\u001b[0;32m     13\u001b[0m         \u001b[39mself\u001b[39m,\n\u001b[0;32m     14\u001b[0m         coords_0: np\u001b[39m.\u001b[39mndarray,\n\u001b[0;32m     15\u001b[0m         coords_1: np\u001b[39m.\u001b[39mndarray,\n\u001b[0;32m     16\u001b[0m         unit: SpatialUnit\n\u001b[0;32m     17\u001b[0m ) \u001b[39m-\u001b[39m\u001b[39m>\u001b[39m \u001b[39mNone\u001b[39;00m:\n\u001b[0;32m     18\u001b[0m     \u001b[39msuper\u001b[39m(SpatialGrid, \u001b[39mself\u001b[39m)\u001b[39m.\u001b[39m\u001b[39m__init__\u001b[39m(coords_0, coords_1, unit)\n\u001b[1;32m---> 20\u001b[0m \u001b[39mdef\u001b[39;00m \u001b[39mtransform\u001b[39m(\u001b[39mself\u001b[39m) \u001b[39m-\u001b[39m\u001b[39m>\u001b[39m lattice_fringe\u001b[39m.\u001b[39;49mgrids\u001b[39m.\u001b[39mfrequency_grid\u001b[39m.\u001b[39mFrequencyGrid:\n\u001b[0;32m     21\u001b[0m     width \u001b[39m=\u001b[39m \u001b[39mself\u001b[39m\u001b[39m.\u001b[39mwidth\n\u001b[0;32m     22\u001b[0m     height \u001b[39m=\u001b[39m \u001b[39mself\u001b[39m\u001b[39m.\u001b[39mheight\n",
      "\u001b[1;31mAttributeError\u001b[0m: module 'lattice_fringe' has no attribute 'grids'"
     ]
    }
   ],
   "source": [
    "from lattice_fringe.grids import SpatialGrid"
   ]
  }
 ],
 "metadata": {
  "kernelspec": {
   "display_name": "Python 3.8.13",
   "language": "python",
   "name": "python3"
  },
  "language_info": {
   "codemirror_mode": {
    "name": "ipython",
    "version": 3
   },
   "file_extension": ".py",
   "mimetype": "text/x-python",
   "name": "python",
   "nbconvert_exporter": "python",
   "pygments_lexer": "ipython3",
   "version": "3.8.13"
  },
  "orig_nbformat": 4,
  "vscode": {
   "interpreter": {
    "hash": "81460069c142a2f30f1405de5d1f751254ad9837b04dcef88c61af353e47a96b"
   }
  }
 },
 "nbformat": 4,
 "nbformat_minor": 2
}
