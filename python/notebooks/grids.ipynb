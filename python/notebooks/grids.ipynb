{
 "cells": [
  {
   "cell_type": "code",
   "execution_count": 1,
   "metadata": {},
   "outputs": [],
   "source": [
    "import numpy as np\n",
    "\n",
    "from lattice_fringe.grids import SpatialGrid"
   ]
  },
  {
   "cell_type": "code",
   "execution_count": 16,
   "metadata": {},
   "outputs": [],
   "source": [
    "x_0 = np.arange(7)\n",
    "x_1 = np.arange(8) + 5\n",
    "sg = SpatialGrid(x_0, x_1, unit=\"a\")\n",
    "\n",
    "assert sg.height == 8\n",
    "assert sg.width == 7"
   ]
  }
 ],
 "metadata": {
  "kernelspec": {
   "display_name": "Python 3.8.13",
   "language": "python",
   "name": "python3"
  },
  "language_info": {
   "codemirror_mode": {
    "name": "ipython",
    "version": 3
   },
   "file_extension": ".py",
   "mimetype": "text/x-python",
   "name": "python",
   "nbconvert_exporter": "python",
   "pygments_lexer": "ipython3",
   "version": "3.8.13"
  },
  "orig_nbformat": 4,
  "vscode": {
   "interpreter": {
    "hash": "81460069c142a2f30f1405de5d1f751254ad9837b04dcef88c61af353e47a96b"
   }
  }
 },
 "nbformat": 4,
 "nbformat_minor": 2
}
